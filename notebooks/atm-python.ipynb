{
 "cells": [
  {
   "cell_type": "markdown",
   "metadata": {},
   "source": [
    "# ATM Interface"
   ]
  },
  {
   "cell_type": "markdown",
   "metadata": {},
   "source": [
    "### Objective:\n",
    "\n",
    "Create an ATM interface where the user can:\n",
    "\n",
    "1. Deposit\n",
    "2. Withdraw\n",
    "3. Check Balance\n",
    "4. Change Password\n",
    "\n",
    "### Requirements:\n",
    "\n",
    "- User inputs the last 4 digits of the ATM card and a 4-digit password.\n",
    "- Implement using object-oriented programming (OOP) concepts in Python.\n",
    "- Include classes and methods for each operation.\n",
    "- Ensure error handling and input validation.\n"
   ]
  },
  {
   "cell_type": "code",
   "execution_count": 1,
   "metadata": {},
   "outputs": [],
   "source": [
    "def create_account():\n",
    "    pass\n",
    "\n",
    "\n",
    "def change_password():\n",
    "    pass\n",
    "\n",
    "\n",
    "def deposit_money(account, money):\n",
    "    pass\n",
    "\n",
    "\n",
    "def withdraw_money(account, money):\n",
    "    pass\n",
    "\n",
    "def check_balance():\n",
    "    pass"
   ]
  },
  {
   "cell_type": "code",
   "execution_count": 2,
   "metadata": {},
   "outputs": [
    {
     "name": "stdout",
     "output_type": "stream",
     "text": [
      "Table created successfully!\n"
     ]
    }
   ],
   "source": [
    "import sqlite3\n",
    "\n",
    "# connecting to sqlite\n",
    "connection_obj = sqlite3.connect(\"test.db\")\n",
    "\n",
    "# cursor object\n",
    "cursor_obj = connection_obj.cursor()\n",
    "\n",
    "# drop the test table if it already exists\n",
    "cursor_obj.execute(\"DROP TABLE IF EXISTS test\")\n",
    "\n",
    "# creating table\n",
    "table = \"\"\" create table test (\n",
    "            id integer primary key autoincrement,\n",
    "            account_no integer,\n",
    "            first_name varchar(30),\n",
    "            last_name varchar(30),\n",
    "            balance int\n",
    "            )\n",
    "        \"\"\"\n",
    "\n",
    "cursor_obj.execute(table)\n",
    "\n",
    "print(\"Table created successfully!\")\n",
    "\n",
    "connection_obj.close()"
   ]
  },
  {
   "cell_type": "code",
   "execution_count": 3,
   "metadata": {},
   "outputs": [
    {
     "name": "stdout",
     "output_type": "stream",
     "text": [
      "Data Inserted in the table: \n",
      "(101, 'John', 'Doe', '12345678', 10000)\n",
      "(102, 'Peter', 'Parket', '87654321', 15000)\n",
      "(103, 'ABC', 'XYZ', '18273645', 20000)\n"
     ]
    }
   ],
   "source": [
    "conn = sqlite3.connect(\"test.db\")\n",
    "\n",
    "cursor = conn.cursor()\n",
    "\n",
    "# insert values in the table\n",
    "cursor.execute(\"\"\"insert into test values (101, 'John', 'Doe', 12345678, 10000)\"\"\")\n",
    "cursor.execute(\"\"\"insert into test values (102, 'Peter', 'Parket', 87654321, 15000)\"\"\")\n",
    "cursor.execute(\"\"\"insert into test values (103, 'ABC', 'XYZ', 18273645, 20000)\"\"\")\n",
    "\n",
    "# Display data inserted\n",
    "print(\"Data Inserted in the table: \")\n",
    "data = cursor.execute(\"\"\"SELECT * FROM test\"\"\")\n",
    "for row in data:\n",
    "    print(row)\n",
    "\n",
    "# Commit your changes in the database\n",
    "conn.commit()\n",
    "\n",
    "# Closing the connection\n",
    "conn.close()"
   ]
  },
  {
   "cell_type": "code",
   "execution_count": 4,
   "metadata": {},
   "outputs": [],
   "source": [
    "# check balance\n",
    "\n",
    "conn = sqlite3.connect(\"test.db\")\n",
    "\n",
    "cursor = conn.cursor()\n",
    "\n",
    "data = cursor.execute(\"select balance from test where account_no=12345678\")\n",
    "\n",
    "for row in data:\n",
    "    print(row[0])\n",
    "\n",
    "conn.close()"
   ]
  },
  {
   "cell_type": "code",
   "execution_count": 5,
   "metadata": {},
   "outputs": [],
   "source": [
    "# withdraw money\n",
    "\n",
    "conn = sqlite3.connect(\"test.db\")\n",
    "\n",
    "cursor = conn.cursor()\n",
    "\n",
    "amount = 5000\n",
    "account_no = 12345678\n",
    "data = cursor.execute(\n",
    "    f\"update test set balance = balance-{amount} where account_no={account_no}\"\n",
    ")\n",
    "\n",
    "# to save the changes\n",
    "conn.commit()\n",
    "\n",
    "conn.close()"
   ]
  },
  {
   "cell_type": "code",
   "execution_count": 6,
   "metadata": {},
   "outputs": [],
   "source": [
    "# deposit money\n",
    "\n",
    "conn = sqlite3.connect(\"test.db\")\n",
    "\n",
    "cursor = conn.cursor()\n",
    "\n",
    "amount = 5000\n",
    "account_no = 12345678\n",
    "data = cursor.execute(\n",
    "    f\"update test set balance = balance+{amount} where account_no={account_no}\"\n",
    ")\n",
    "\n",
    "# to save the changes\n",
    "conn.commit()\n",
    "\n",
    "conn.close()"
   ]
  },
  {
   "cell_type": "code",
   "execution_count": 7,
   "metadata": {},
   "outputs": [],
   "source": [
    "# create account\n",
    "\n",
    "conn = sqlite3.connect(\"test.db\")\n",
    "\n",
    "cursor = conn.cursor()\n",
    "\n",
    "cursor.execute(\"insert into test values(104, 'Mudassir',  'Ansari', 12341234, 3000)\")\n",
    "\n",
    "conn.commit()\n",
    "\n",
    "conn.close()"
   ]
  },
  {
   "cell_type": "code",
   "execution_count": 34,
   "metadata": {},
   "outputs": [
    {
     "name": "stdout",
     "output_type": "stream",
     "text": [
      "b'gAAAAABmm7dJ8ja8TK_GcjGPl0GRJUlOiWC8WjoBZbW84hhCt8bCLulPXU4CJ0SAx1Ug4yUUrpGJDibA5tibbqa1V9f3vT9I-A=='\n",
      "abcd1234\n"
     ]
    }
   ],
   "source": [
    "from cryptography.fernet import Fernet\n",
    "\n",
    "password = \"abcd1234\"\n",
    "\n",
    "key = Fernet.generate_key()\n",
    "fernet = Fernet(key)\n",
    "\n",
    "encPass = fernet.encrypt(password.encode())\n",
    "print(encPass)\n",
    "\n",
    "decPass = fernet.decrypt(encPass).decode()\n",
    "print(decPass)"
   ]
  },
  {
   "cell_type": "code",
   "execution_count": 37,
   "metadata": {},
   "outputs": [
    {
     "name": "stdout",
     "output_type": "stream",
     "text": [
      "b'gAAAAABmm7da382bc92IkGo4VFfZE1UQS6pH2FUtsCyfCjWCJi1puOaWCWw-VWJ2fEp_RZ4pcPNLnDhDHCgKZxZnqrJs-oHjxQ=='\n"
     ]
    }
   ],
   "source": [
    "password = \"abcd1234\"\n",
    "\n",
    "encPass = fernet.encrypt(password.encode())\n",
    "print(encPass)"
   ]
  },
  {
   "cell_type": "code",
   "execution_count": 35,
   "metadata": {},
   "outputs": [
    {
     "data": {
      "text/plain": [
       "435987"
      ]
     },
     "execution_count": 35,
     "metadata": {},
     "output_type": "execute_result"
    }
   ],
   "source": [
    "import numpy as np\n",
    "\n",
    "np.random.randint(100000, 999999)"
   ]
  },
  {
   "cell_type": "code",
   "execution_count": 45,
   "metadata": {},
   "outputs": [
    {
     "name": "stdout",
     "output_type": "stream",
     "text": [
      "101\n"
     ]
    }
   ],
   "source": [
    "import sqlite3\n",
    "\n",
    "conn = sqlite3.connect(\"test.db\")\n",
    "cursor = conn.cursor()\n",
    "\n",
    "data = cursor.execute(\n",
    "    \"\"\"SELECT id FROM test WHERE id=101;\"\"\"\n",
    ")\n",
    "\n",
    "result = [row[0] for row in data]\n",
    "if len(result) > 0:\n",
    "    print(result[0])\n",
    "\n",
    "\n",
    "# if result > 0:\n",
    "#     print(\"Exists\")\n",
    "# else:\n",
    "#     print(\"Does not Exists\")\n",
    "\n",
    "conn.close()"
   ]
  },
  {
   "cell_type": "code",
   "execution_count": null,
   "metadata": {},
   "outputs": [],
   "source": []
  }
 ],
 "metadata": {
  "kernelspec": {
   "display_name": ".venv",
   "language": "python",
   "name": "python3"
  },
  "language_info": {
   "codemirror_mode": {
    "name": "ipython",
    "version": 3
   },
   "file_extension": ".py",
   "mimetype": "text/x-python",
   "name": "python",
   "nbconvert_exporter": "python",
   "pygments_lexer": "ipython3",
   "version": "3.12.4"
  }
 },
 "nbformat": 4,
 "nbformat_minor": 2
}
